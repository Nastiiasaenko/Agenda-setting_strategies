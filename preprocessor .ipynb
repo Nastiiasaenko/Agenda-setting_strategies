{
 "cells": [
  {
   "cell_type": "markdown",
   "metadata": {},
   "source": [
    "# Импорты"
   ]
  },
  {
   "cell_type": "code",
   "execution_count": 8,
   "metadata": {},
   "outputs": [
    {
     "name": "stderr",
     "output_type": "stream",
     "text": [
      "[nltk_data] Downloading package stopwords to\n",
      "[nltk_data]     C:\\Users\\Anastasia\\AppData\\Roaming\\nltk_data...\n",
      "[nltk_data]   Package stopwords is already up-to-date!\n"
     ]
    }
   ],
   "source": [
    "import pymorphy2\n",
    "import nltk\n",
    "nltk.download(\"stopwords\")\n",
    "from nltk.corpus import stopwords\n",
    "import pandas as pd\n",
    "import zipfile"
   ]
  },
  {
   "cell_type": "code",
   "execution_count": 4,
   "metadata": {},
   "outputs": [],
   "source": [
    "noise = stopwords.words('russian')"
   ]
  },
  {
   "cell_type": "code",
   "execution_count": 6,
   "metadata": {},
   "outputs": [],
   "source": [
    "def lemmatize_text(text):\n",
    "    # 1. Оставим только буквы и пробелы и приведем к нижнему регистру\n",
    "    text = re.sub('[^а-я ]+', ' ', text.lower())\n",
    "\n",
    "# 2. Разобьем на токены\n",
    "    tokens = word_tokenize(text)\n",
    "\n",
    "# 3. Оставим только те токены, которые не входят в стопслова\n",
    "    tokens_cleaned = [token for token in tokens if token not in noise]\n",
    "#Эта запись аналогична следующей:\n",
    "# tokens_cleaned = []\n",
    "# for token in tokens:\n",
    "#     if token not in noise:\n",
    "#         tokens_cleaned.append(token)\n",
    "\n",
    "# 4. Нормализуем оставшиеся токены\n",
    "    morph = pymorphy2.MorphAnalyzer()\n",
    "    tokens_lemmatized = [morph.parse(token)[0].normal_form for token in tokens_cleaned]\n",
    "\n",
    "# 5. Объединим\n",
    "    text_lemmatized = ' '.join(tokens_lemmatized)\n",
    "\n",
    "    return text_lemmatized "
   ]
  },
  {
   "cell_type": "code",
   "execution_count": null,
   "metadata": {},
   "outputs": [],
   "source": []
  }
 ],
 "metadata": {
  "kernelspec": {
   "display_name": "Python 3",
   "language": "python",
   "name": "python3"
  },
  "language_info": {
   "codemirror_mode": {
    "name": "ipython",
    "version": 3
   },
   "file_extension": ".py",
   "mimetype": "text/x-python",
   "name": "python",
   "nbconvert_exporter": "python",
   "pygments_lexer": "ipython3",
   "version": "3.7.3"
  }
 },
 "nbformat": 4,
 "nbformat_minor": 2
}
